{
 "cells": [
  {
   "cell_type": "markdown",
   "id": "820ddc53",
   "metadata": {},
   "source": [
    "# Import necessary libraries\n",
    "\n",
    "Don't forget to install the requirements.txt"
   ]
  },
  {
   "cell_type": "code",
   "execution_count": 2,
   "id": "6ba48371",
   "metadata": {},
   "outputs": [],
   "source": [
    "import csv\n",
    "import os\n",
    "from selenium import webdriver\n",
    "from selenium.webdriver.common.by import By\n",
    "from selenium.common.exceptions import NoSuchElementException\n",
    "from selenium.webdriver.common.keys import Keys\n",
    "from selenium.webdriver.support.wait import WebDriverWait\n",
    "from selenium.webdriver.support import expected_conditions as EC\n",
    "from time import sleep"
   ]
  },
  {
   "cell_type": "markdown",
   "id": "f4cb9d40",
   "metadata": {},
   "source": [
    "# Set up your Twitter account credentials and the topic you want to scrape"
   ]
  },
  {
   "cell_type": "code",
   "execution_count": 11,
   "id": "ade6d66d",
   "metadata": {},
   "outputs": [],
   "source": [
    "Acc_Email = 'your_email@example.com'\n",
    "Acc_Username = 'your_twitter_username'\n",
    "Acc_Password = 'your_twitter_password'\n",
    "\n",
    "Tweets_Query = 'pilpres 2024'  # Change this to your desired topic"
   ]
  },
  {
   "cell_type": "markdown",
   "id": "68ca0cc0",
   "metadata": {},
   "source": [
    "## Function to parse tweet"
   ]
  },
  {
   "cell_type": "code",
   "execution_count": 9,
   "id": "7f396285",
   "metadata": {},
   "outputs": [],
   "source": [
    "def get_tweet_data(card):\n",
    "    \"\"\"Extract data from tweet card\"\"\"\n",
    "    username = card.find_element(By.XPATH, './/span').text\n",
    "    try:\n",
    "        handle = card.find_element(By.XPATH, './/span[contains(text(), \"@\")]').text\n",
    "    except NoSuchElementException:\n",
    "        return\n",
    "    \n",
    "    try:\n",
    "        postdate = card.find_element(By.XPATH, './/time').get_attribute('datetime')\n",
    "    except NoSuchElementException:\n",
    "        return\n",
    "    \n",
    "    text = card.find_element(By.XPATH, './/div[@data-testid=\"tweetText\"]').text\n",
    "    reply_cnt = card.find_element(By.XPATH, './/div[@data-testid=\"reply\"]').text\n",
    "    retweet_cnt = card.find_element(By.XPATH, './/div[@data-testid=\"retweet\"]').text\n",
    "    like_cnt = card.find_element(By.XPATH, './/div[@data-testid=\"like\"]').text\n",
    "    \n",
    "    tweet = (username, handle, postdate, text, reply_cnt, retweet_cnt, like_cnt)\n",
    "    return tweet "
   ]
  },
  {
   "cell_type": "markdown",
   "id": "ec107afe",
   "metadata": {},
   "source": [
    "## Login to twitter"
   ]
  },
  {
   "cell_type": "code",
   "execution_count": 13,
   "id": "7835636d",
   "metadata": {},
   "outputs": [],
   "source": [
    "# Open a web browser and log in to Twitter\n",
    "driver = webdriver.Edge() # Use the appropriate driver for your browser\n",
    "driver.get('https://twitter.com/login')\n",
    "\n",
    "# Login to twitter\n",
    "email_input = WebDriverWait(driver, timeout=10).until(\n",
    "    EC.visibility_of_element_located((By.XPATH, '//input'))\n",
    ")\n",
    "email_input.send_keys(Acc_Email)\n",
    "\n",
    "next_btn = driver.find_element(By.XPATH, '//*[text()=\"Next\"]')\n",
    "next_btn.click()\n",
    "\n",
    "\n",
    "# ''' Only use this if asking for unusual activity notification'''\n",
    "# username_input = WebDriverWait(driver, timeout=10).until(\n",
    "#     EC.visibility_of_element_located((By.XPATH, '//input'))\n",
    "# )\n",
    "# username_input.send_keys(Acc_Username)\n",
    "# next_btn = driver.find_element(By.XPATH, '//*[text()=\"Next\"]')\n",
    "# next_btn.click()\n",
    "\n",
    "\n",
    "# Wait for the password input element to be visible\n",
    "password_input = WebDriverWait(driver, timeout=10).until(\n",
    "    EC.visibility_of_element_located((By.XPATH, '//input[@name=\"password\"]'))\n",
    ")\n",
    "password_input.send_keys(Acc_Password)\n",
    "\n",
    "login_btn = driver.find_element(By.XPATH, '//*[text()=\"Log in\"]')\n",
    "login_btn.click()"
   ]
  },
  {
   "cell_type": "markdown",
   "id": "e415284b",
   "metadata": {},
   "source": [
    "## Find the topic"
   ]
  },
  {
   "cell_type": "code",
   "execution_count": 14,
   "id": "b66ee5cd",
   "metadata": {},
   "outputs": [],
   "source": [
    "# Navigate to the topic you want to scrape\n",
    "explore_btn = driver.find_element(By.XPATH, '//a[@href=\"/explore\"]')\n",
    "explore_btn.click()\n",
    "\n",
    "explore_input = WebDriverWait(driver, timeout=10).until(\n",
    "    EC.visibility_of_element_located((By.XPATH, '//input'))\n",
    ")\n",
    "explore_input.send_keys(Tweets_Query)\n",
    "explore_input.send_keys(Keys.ENTER)\n",
    "\n",
    "\n",
    "latest_btn = driver.find_element(By.XPATH, '//div[@data-testid][2]/div/div[2]')\n",
    "latest_btn.click()"
   ]
  },
  {
   "cell_type": "markdown",
   "id": "45e7db54",
   "metadata": {},
   "source": [
    "### Prepare the variables for the data"
   ]
  },
  {
   "cell_type": "code",
   "execution_count": 15,
   "id": "edb7cb4f",
   "metadata": {},
   "outputs": [],
   "source": [
    "data = []\n",
    "tweet_ids = set()"
   ]
  },
  {
   "cell_type": "markdown",
   "id": "4406e298",
   "metadata": {},
   "source": [
    "### Scraping the data"
   ]
  },
  {
   "cell_type": "markdown",
   "id": "177d9941",
   "metadata": {},
   "source": [
    "You can keep re-running this block of code after changing the query manually to get even more result"
   ]
  },
  {
   "cell_type": "code",
   "execution_count": 16,
   "id": "a419e9df",
   "metadata": {},
   "outputs": [],
   "source": [
    "last_position = driver.execute_script(\"return window.pageYOffset;\")\n",
    "scrolling = True\n",
    "while scrolling:\n",
    "    page_cards = driver.find_elements(By.XPATH, '//article[@data-testid=\"tweet\"]')\n",
    "    for card in page_cards[-15:]:\n",
    "        tweet = get_tweet_data(card)\n",
    "        if tweet:\n",
    "            tweet_id = ''.join(tweet)\n",
    "            if tweet_id not in tweet_ids:\n",
    "                tweet_ids.add(tweet_id)\n",
    "                data.append(tweet)\n",
    "            \n",
    "    scroll_attempt = 0\n",
    "    while True:\n",
    "        # check scroll position\n",
    "        driver.execute_script('window.scrollTo(0, document.body.scrollHeight);')\n",
    "        sleep(3)\n",
    "        curr_position = driver.execute_script(\"return window.pageYOffset;\")\n",
    "        if last_position == curr_position:\n",
    "            scroll_attempt += 1\n",
    "            \n",
    "            # end of scroll region\n",
    "            if scroll_attempt >= 3:\n",
    "                scrolling = False\n",
    "                break\n",
    "            else:\n",
    "                sleep(2) # attempt another scroll\n",
    "        else:\n",
    "            last_position = curr_position\n",
    "            break"
   ]
  },
  {
   "cell_type": "markdown",
   "id": "f1fda86b",
   "metadata": {},
   "source": [
    "# Save the scraped tweets to a CSV file"
   ]
  },
  {
   "cell_type": "code",
   "execution_count": 17,
   "id": "529f1b2c",
   "metadata": {},
   "outputs": [],
   "source": [
    "# Ensure that the \"rawDataset\" folder exists\n",
    "folder_name = 'rawDataset'\n",
    "if not os.path.exists(folder_name):\n",
    "    os.makedirs(folder_name)\n",
    "\n",
    "with open(os.path.join(folder_name, 'tweets_dataset.csv'), 'a', newline='', encoding='utf-8') as f:\n",
    "    header = ['UserName', 'Handle', 'Timestamp', 'Text', 'Comments', 'Likes', 'Retweets']\n",
    "    writer = csv.writer(f)\n",
    "    writer.writerow(header)\n",
    "    writer.writerows(data)"
   ]
  },
  {
   "cell_type": "code",
   "execution_count": null,
   "id": "b074c2a2",
   "metadata": {},
   "outputs": [],
   "source": []
  }
 ],
 "metadata": {
  "kernelspec": {
   "display_name": "Python 3 (ipykernel)",
   "language": "python",
   "name": "python3"
  },
  "language_info": {
   "codemirror_mode": {
    "name": "ipython",
    "version": 3
   },
   "file_extension": ".py",
   "mimetype": "text/x-python",
   "name": "python",
   "nbconvert_exporter": "python",
   "pygments_lexer": "ipython3",
   "version": "3.10.13"
  }
 },
 "nbformat": 4,
 "nbformat_minor": 5
}
